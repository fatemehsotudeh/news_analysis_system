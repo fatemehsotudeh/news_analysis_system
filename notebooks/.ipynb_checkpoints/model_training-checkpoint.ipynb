{
 "cells": [
  {
   "cell_type": "markdown",
   "id": "89c4b26f",
   "metadata": {},
   "source": [
    "# 1- Import required libraries"
   ]
  },
  {
   "cell_type": "code",
   "execution_count": 1,
   "id": "1d1b32b9",
   "metadata": {},
   "outputs": [],
   "source": [
    "import sys\n",
    "sys.path.append('../scripts/')\n",
    "from data_loading_script import *\n",
    "from model_training_script import *\n",
    "from sklearn.tree import DecisionTreeClassifier\n",
    "from sklearn.naive_bayes import MultinomialNB\n",
    "from sklearn.metrics import accuracy_score\n",
    "import warnings\n",
    "warnings.filterwarnings(\"ignore\")"
   ]
  },
  {
   "cell_type": "markdown",
   "id": "9648b488",
   "metadata": {},
   "source": [
    "# 2- Read data"
   ]
  },
  {
   "cell_type": "code",
   "execution_count": 2,
   "id": "c92d8fb2",
   "metadata": {},
   "outputs": [],
   "source": [
    "X, y, X_train, X_test, y_train, y_test = load_npy_data(path='../data/cleaned_data',files=['X','y','X_train', 'X_test','y_train', 'y_test'])"
   ]
  },
  {
   "cell_type": "code",
   "execution_count": 3,
   "id": "fb947e9f",
   "metadata": {},
   "outputs": [
    {
     "data": {
      "text/plain": [
       "(array([[0.        , 0.09782522, 0.        , ..., 0.        , 0.        ,\n",
       "         0.        ],\n",
       "        [0.        , 0.        , 0.        , ..., 0.        , 0.        ,\n",
       "         0.        ],\n",
       "        [0.        , 0.01870017, 0.01072927, ..., 0.        , 0.        ,\n",
       "         0.        ],\n",
       "        ...,\n",
       "        [0.        , 0.        , 0.        , ..., 0.        , 0.        ,\n",
       "         0.        ],\n",
       "        [0.        , 0.02631762, 0.        , ..., 0.01376593, 0.057903  ,\n",
       "         0.04811406],\n",
       "        [0.        , 0.        , 0.0269021 , ..., 0.02452566, 0.        ,\n",
       "         0.05714733]]),\n",
       " array([ 2,  2,  1,  2, 15, 20, 20,  2,  2, 15]))"
      ]
     },
     "execution_count": 3,
     "metadata": {},
     "output_type": "execute_result"
    }
   ],
   "source": [
    "(X_train[:10], y_train[:10])"
   ]
  },
  {
   "cell_type": "markdown",
   "id": "749b28f9",
   "metadata": {},
   "source": [
    "# 3-  Model Training"
   ]
  },
  {
   "cell_type": "code",
   "execution_count": 4,
   "id": "56778853",
   "metadata": {},
   "outputs": [],
   "source": [
    "models={\n",
    "    \"Decision Tree\":DecisionTreeClassifier(),\n",
    "    \"Naive Bayes\":MultinomialNB()\n",
    "}"
   ]
  },
  {
   "cell_type": "code",
   "execution_count": 5,
   "id": "abeac691",
   "metadata": {},
   "outputs": [
    {
     "data": {
      "text/plain": [
       "{'Decision Tree': 0.6, 'Naive Bayes': 0.78}"
      ]
     },
     "execution_count": 5,
     "metadata": {},
     "output_type": "execute_result"
    }
   ],
   "source": [
    "fit_and_score(models, X_train, X_test, y_train, y_test)"
   ]
  },
  {
   "cell_type": "markdown",
   "id": "4acbb87d",
   "metadata": {},
   "source": [
    "# 4- Hyperparameter Tuning"
   ]
  },
  {
   "cell_type": "code",
   "execution_count": 6,
   "id": "8b7d2765",
   "metadata": {},
   "outputs": [
    {
     "name": "stdout",
     "output_type": "stream",
     "text": [
      "Fitting 5 folds for each of 100 candidates, totalling 500 fits\n"
     ]
    }
   ],
   "source": [
    "tree_param_dist = {\n",
    "    'criterion': ['gini', 'entropy'],\n",
    "    'splitter': ['best', 'random'],\n",
    "    'max_depth': [None, 10, 20, 30],\n",
    "    'min_samples_split': [2, 5, 10],\n",
    "    'min_samples_leaf': [1, 2, 4],\n",
    "    'max_features': ['auto', 'sqrt', 'log2', 1,2 , 4, None],\n",
    "}\n",
    "best_tree_model = tune_hyperparameters(models['Decision Tree'], X,  y, tree_param_dist)"
   ]
  },
  {
   "cell_type": "code",
   "execution_count": 7,
   "id": "07dcfffc",
   "metadata": {},
   "outputs": [
    {
     "name": "stdout",
     "output_type": "stream",
     "text": [
      "Fitting 5 folds for each of 6 candidates, totalling 30 fits\n"
     ]
    }
   ],
   "source": [
    "naive_bayes_param_dist = {\n",
    "    'alpha': [0.1, 0.5, 1.0],       \n",
    "    'fit_prior': [True, False]\n",
    "}\n",
    "best_naive_bayes_model = tune_hyperparameters(models['Naive Bayes'], X,  y, naive_bayes_param_dist)"
   ]
  },
  {
   "cell_type": "code",
   "execution_count": 8,
   "id": "ce37fe4a",
   "metadata": {},
   "outputs": [],
   "source": [
    "models={\n",
    "    \"best_naive_bayes_model\":best_naive_bayes_model,\n",
    "    \"best_tree_model\":best_tree_model\n",
    "}"
   ]
  },
  {
   "cell_type": "code",
   "execution_count": 9,
   "id": "5e630470",
   "metadata": {},
   "outputs": [
    {
     "data": {
      "text/plain": [
       "{'best_naive_bayes_model': 0.8, 'best_tree_model': 0.66}"
      ]
     },
     "execution_count": 9,
     "metadata": {},
     "output_type": "execute_result"
    }
   ],
   "source": [
    "fit_and_score(models, X_train, X_test, y_train, y_test)"
   ]
  },
  {
   "cell_type": "markdown",
   "id": "91be56b2",
   "metadata": {},
   "source": [
    "# 5- Save Models"
   ]
  },
  {
   "cell_type": "code",
   "execution_count": 12,
   "id": "56161535",
   "metadata": {},
   "outputs": [],
   "source": [
    "save_model(best_tree_model, '../models/decision_tree.pkl')\n",
    "save_model(best_naive_bayes_model, '../models/naive_bayes.pkl')"
   ]
  }
 ],
 "metadata": {
  "kernelspec": {
   "display_name": "Python 3 (ipykernel)",
   "language": "python",
   "name": "python3"
  },
  "language_info": {
   "codemirror_mode": {
    "name": "ipython",
    "version": 3
   },
   "file_extension": ".py",
   "mimetype": "text/x-python",
   "name": "python",
   "nbconvert_exporter": "python",
   "pygments_lexer": "ipython3",
   "version": "3.10.13"
  }
 },
 "nbformat": 4,
 "nbformat_minor": 5
}
