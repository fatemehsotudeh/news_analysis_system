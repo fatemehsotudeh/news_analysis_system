{
 "cells": [
  {
   "cell_type": "markdown",
   "id": "9a7479a8",
   "metadata": {},
   "source": [
    "# 1- Import required libraries"
   ]
  },
  {
   "cell_type": "code",
   "execution_count": 1,
   "id": "ed2c8754",
   "metadata": {},
   "outputs": [],
   "source": [
    "import sys\n",
    "sys.path.append('../scripts/')\n",
    "from data_loading_script import *\n",
    "from model_training_script import *\n",
    "from sklearn.tree import DecisionTreeClassifier\n",
    "from sklearn.svm import SVC\n",
    "from sklearn.metrics import accuracy_score"
   ]
  },
  {
   "cell_type": "markdown",
   "id": "1e1db74e",
   "metadata": {},
   "source": [
    "# 2- Read data"
   ]
  },
  {
   "cell_type": "code",
   "execution_count": 2,
   "id": "ff0584f9",
   "metadata": {},
   "outputs": [],
   "source": [
    "X, y, X_train, X_test, y_train, y_test = load_npy_data(path='../data/cleaned_data',files=['X','y','X_train', 'X_test','y_train', 'y_test'])"
   ]
  },
  {
   "cell_type": "code",
   "execution_count": 3,
   "id": "e46aad50",
   "metadata": {},
   "outputs": [
    {
     "data": {
      "text/plain": [
       "(array([[0.        , 0.09782522, 0.        , ..., 0.        , 0.        ,\n",
       "         0.        ],\n",
       "        [0.        , 0.        , 0.        , ..., 0.        , 0.        ,\n",
       "         0.        ],\n",
       "        [0.        , 0.01870017, 0.01072927, ..., 0.        , 0.        ,\n",
       "         0.        ],\n",
       "        ...,\n",
       "        [0.        , 0.        , 0.        , ..., 0.        , 0.        ,\n",
       "         0.        ],\n",
       "        [0.        , 0.02631762, 0.        , ..., 0.01376593, 0.057903  ,\n",
       "         0.04811406],\n",
       "        [0.        , 0.        , 0.0269021 , ..., 0.02452566, 0.        ,\n",
       "         0.05714733]]),\n",
       " array([ 2,  2,  1,  2, 15, 20, 20,  2,  2, 15]))"
      ]
     },
     "execution_count": 3,
     "metadata": {},
     "output_type": "execute_result"
    }
   ],
   "source": [
    "(X_train[:10], y_train[:10])"
   ]
  },
  {
   "cell_type": "markdown",
   "id": "3ad72559",
   "metadata": {},
   "source": [
    "# 3-  Model Training"
   ]
  },
  {
   "cell_type": "code",
   "execution_count": 4,
   "id": "582cc0c0",
   "metadata": {},
   "outputs": [],
   "source": [
    "models={\n",
    "    \"Decision Tree\":DecisionTreeClassifier(),\n",
    "    \"SVM\":SVC(kernel='linear')\n",
    "}"
   ]
  },
  {
   "cell_type": "code",
   "execution_count": 5,
   "id": "cd139f3e",
   "metadata": {},
   "outputs": [
    {
     "data": {
      "text/plain": [
       "{'Decision Tree': 0.6, 'SVM': 0.79}"
      ]
     },
     "execution_count": 5,
     "metadata": {},
     "output_type": "execute_result"
    }
   ],
   "source": [
    "fit_and_score(models, X_train, X_test, y_train, y_test)"
   ]
  },
  {
   "cell_type": "code",
   "execution_count": 8,
   "id": "0b32a997",
   "metadata": {},
   "outputs": [
    {
     "name": "stderr",
     "output_type": "stream",
     "text": [
      "C:\\Users\\FSG\\projects\\news_analysis_system\\env\\lib\\site-packages\\sklearn\\model_selection\\_search.py:307: UserWarning: The total space of parameters 45 is smaller than n_iter=50. Running 45 iterations. For exhaustive searches, use GridSearchCV.\n",
      "  warnings.warn(\n",
      "C:\\Users\\FSG\\projects\\news_analysis_system\\env\\lib\\site-packages\\sklearn\\model_selection\\_split.py:725: UserWarning: The least populated class in y has only 1 members, which is less than n_splits=5.\n",
      "  warnings.warn(\n"
     ]
    },
    {
     "data": {
      "text/plain": [
       "{'kernel': 'linear', 'gamma': 1e-06, 'C': 1}"
      ]
     },
     "execution_count": 8,
     "metadata": {},
     "output_type": "execute_result"
    }
   ],
   "source": [
    "svc_param_dist = {\n",
    "    'C': [0.1, 1, 10],\n",
    "    'kernel': ['linear', 'rbf', 'poly'],\n",
    "    'gamma': [1e-6, 1e-4, 1e-2, 1e-1, 1.0],\n",
    "}\n",
    "\n",
    "best_svc_params = tune_hyperparameters(models['SVM'], X, X_test, y, y_test, svc_param_dist)\n",
    "best_svc_params"
   ]
  },
  {
   "cell_type": "code",
   "execution_count": null,
   "id": "ed4d37fe",
   "metadata": {},
   "outputs": [],
   "source": []
  }
 ],
 "metadata": {
  "kernelspec": {
   "display_name": "Python 3 (ipykernel)",
   "language": "python",
   "name": "python3"
  },
  "language_info": {
   "codemirror_mode": {
    "name": "ipython",
    "version": 3
   },
   "file_extension": ".py",
   "mimetype": "text/x-python",
   "name": "python",
   "nbconvert_exporter": "python",
   "pygments_lexer": "ipython3",
   "version": "3.10.13"
  }
 },
 "nbformat": 4,
 "nbformat_minor": 5
}
