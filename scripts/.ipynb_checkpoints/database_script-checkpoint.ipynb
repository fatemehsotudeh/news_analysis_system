{
 "cells": [
  {
   "cell_type": "code",
   "execution_count": 15,
   "id": "91660f39",
   "metadata": {},
   "outputs": [],
   "source": [
    "import mysql.connector\n",
    "import sys\n",
    "sys.path.append('../config/')\n",
    "from config import DATABASE_CONFIG"
   ]
  },
  {
   "cell_type": "code",
   "execution_count": 16,
   "id": "890b57f6",
   "metadata": {},
   "outputs": [],
   "source": [
    "class DatabaseHandler:\n",
    "    def __init__(self):\n",
    "        self.conn = mysql.connector.connect(**DATABASE_CONFIG)\n",
    "        self.cursor = self.conn.cursor()\n",
    "\n",
    "    def insert_data(self, title, category, content):\n",
    "        insert_query = \"INSERT INTO news (news_id, title, category, content) VALUES (%s, %s, %s, %s)\"\n",
    "        data = (news_id, title, category, content)\n",
    "        self.cursor.execute(insert_query, data)\n",
    "        self.conn.commit()\n",
    "\n",
    "    def close_connection(self):\n",
    "        self.cursor.close()\n",
    "        self.conn.close()"
   ]
  },
  {
   "cell_type": "code",
   "execution_count": null,
   "id": "434bed03",
   "metadata": {},
   "outputs": [],
   "source": []
  }
 ],
 "metadata": {
  "kernelspec": {
   "display_name": "Python 3 (ipykernel)",
   "language": "python",
   "name": "python3"
  },
  "language_info": {
   "codemirror_mode": {
    "name": "ipython",
    "version": 3
   },
   "file_extension": ".py",
   "mimetype": "text/x-python",
   "name": "python",
   "nbconvert_exporter": "python",
   "pygments_lexer": "ipython3",
   "version": "3.10.13"
  }
 },
 "nbformat": 4,
 "nbformat_minor": 5
}
