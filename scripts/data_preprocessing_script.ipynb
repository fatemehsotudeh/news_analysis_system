{
 "cells": [
  {
   "cell_type": "code",
   "execution_count": 32,
   "id": "af290d5e",
   "metadata": {},
   "outputs": [],
   "source": [
    "from hazm import Normalizer, word_tokenize, stopwords_list, Stemmer, Lemmatizer\n",
    "from sklearn.feature_extraction.text import TfidfVectorizer\n",
    "import numpy as np"
   ]
  },
  {
   "cell_type": "code",
   "execution_count": 33,
   "id": "5ed6bc33",
   "metadata": {},
   "outputs": [],
   "source": [
    "def preprocess_persian_text(text):\n",
    "    normalizer = Normalizer()\n",
    "    text = normalizer.normalize(text)\n",
    "\n",
    "    words = word_tokenize(text)\n",
    "\n",
    "    words = [word for word in words if word.isalnum()]\n",
    "\n",
    "    stop_words = set(stopwords_list())\n",
    "    words = [word for word in words if word not in stop_words]\n",
    "\n",
    "    lemmatizer = Lemmatizer()\n",
    "    words = [lemmatizer.lemmatize(word) for word in words]\n",
    "\n",
    "    processed_text = ' '.join(words)\n",
    "\n",
    "    return processed_text"
   ]
  },
  {
   "cell_type": "code",
   "execution_count": 34,
   "id": "05ccc2d6",
   "metadata": {},
   "outputs": [],
   "source": [
    "def tf_idf_vectorization(text):\n",
    "    tfidf_vectorizer = TfidfVectorizer(max_features=1000)  \n",
    "    text_features = tfidf_vectorizer.fit_transform(text).toarray()\n",
    "    return text_features"
   ]
  }
 ],
 "metadata": {
  "kernelspec": {
   "display_name": "Python 3 (ipykernel)",
   "language": "python",
   "name": "python3"
  },
  "language_info": {
   "codemirror_mode": {
    "name": "ipython",
    "version": 3
   },
   "file_extension": ".py",
   "mimetype": "text/x-python",
   "name": "python",
   "nbconvert_exporter": "python",
   "pygments_lexer": "ipython3",
   "version": "3.10.13"
  }
 },
 "nbformat": 4,
 "nbformat_minor": 5
}
